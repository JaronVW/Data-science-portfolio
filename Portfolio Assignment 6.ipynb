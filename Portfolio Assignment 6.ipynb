{
 "cells": [
  {
   "cell_type": "markdown",
   "metadata": {},
   "source": [
    "# Portfolio Assignment 6: Pokemon Dataset"
   ]
  },
  {
   "cell_type": "code",
   "execution_count": 3,
   "metadata": {},
   "outputs": [
    {
     "ename": "ModuleNotFoundError",
     "evalue": "No module named 'pandas'",
     "output_type": "error",
     "traceback": [
      "\u001B[1;31m---------------------------------------------------------------------------\u001B[0m",
      "\u001B[1;31mModuleNotFoundError\u001B[0m                       Traceback (most recent call last)",
      "Cell \u001B[1;32mIn[3], line 1\u001B[0m\n\u001B[1;32m----> 1\u001B[0m \u001B[39mimport\u001B[39;00m \u001B[39mpandas\u001B[39;00m \u001B[39mas\u001B[39;00m \u001B[39mpd\u001B[39;00m\n",
      "\u001B[1;31mModuleNotFoundError\u001B[0m: No module named 'pandas'"
     ]
    }
   ],
   "source": [
    "import pandas as pd"
   ]
  },
  {
   "cell_type": "code",
   "execution_count": null,
   "metadata": {},
   "outputs": [
    {
     "ename": "",
     "evalue": "",
     "output_type": "error",
     "traceback": [
      "\u001B[1;31mRunning cells with 'c:\\Users\\Jaron\\AppData\\Local\\Programs\\Python\\Python39\\python.exe' requires ipykernel package.\n",
      "\u001B[1;31mRun the following command to install 'ipykernel' into the Python environment. \n",
      "\u001B[1;31mCommand: 'c:/Users/Jaron/AppData/Local/Programs/Python/Python39/python.exe -m pip install ipykernel -U --user --force-reinstall'"
     ]
    }
   ],
   "source": [
    "Pokemon = pd.read_csv('files/All_Pokemon.csv')"
   ]
  },
  {
   "cell_type": "code",
   "execution_count": null,
   "metadata": {},
   "outputs": [
    {
     "ename": "",
     "evalue": "",
     "output_type": "error",
     "traceback": [
      "\u001B[1;31mRunning cells with 'c:\\Users\\Jaron\\AppData\\Local\\Programs\\Python\\Python39\\python.exe' requires ipykernel package.\n",
      "\u001B[1;31mRun the following command to install 'ipykernel' into the Python environment. \n",
      "\u001B[1;31mCommand: 'c:/Users/Jaron/AppData/Local/Programs/Python/Python39/python.exe -m pip install ipykernel -U --user --force-reinstall'"
     ]
    }
   ],
   "source": [
    "Pokemon"
   ]
  },
  {
   "cell_type": "markdown",
   "metadata": {},
   "source": [
    "## 1. Number of Pokémon type occurrences"
   ]
  },
  {
   "cell_type": "code",
   "execution_count": null,
   "metadata": {},
   "outputs": [
    {
     "ename": "",
     "evalue": "",
     "output_type": "error",
     "traceback": [
      "\u001B[1;31mRunning cells with 'c:\\Users\\Jaron\\AppData\\Local\\Programs\\Python\\Python39\\python.exe' requires ipykernel package.\n",
      "\u001B[1;31mRun the following command to install 'ipykernel' into the Python environment. \n",
      "\u001B[1;31mCommand: 'c:/Users/Jaron/AppData/Local/Programs/Python/Python39/python.exe -m pip install ipykernel -U --user --force-reinstall'"
     ]
    }
   ],
   "source": [
    "pokemon_with_one_type = Pokemon[Pokemon['Type 2'].isnull()]\n",
    "pokemon_with_two_types = Pokemon[Pokemon['Type 2'].notnull()]\n",
    "\n",
    "two_type_value_counts = pokemon_with_two_types['Type 2'].value_counts() + pokemon_with_two_types['Type 1'].value_counts()\n",
    "total = pokemon_with_one_type['Type 1'].value_counts() + two_type_value_counts\n",
    "\n",
    "total.plot.barh()"
   ]
  },
  {
   "cell_type": "markdown",
   "metadata": {},
   "source": [
    "## 2. Average HP per Pokémon type"
   ]
  },
  {
   "cell_type": "code",
   "execution_count": null,
   "metadata": {},
   "outputs": [
    {
     "ename": "",
     "evalue": "",
     "output_type": "error",
     "traceback": [
      "\u001B[1;31mRunning cells with 'c:\\Users\\Jaron\\AppData\\Local\\Programs\\Python\\Python39\\python.exe' requires ipykernel package.\n",
      "\u001B[1;31mRun the following command to install 'ipykernel' into the Python environment. \n",
      "\u001B[1;31mCommand: 'c:/Users/Jaron/AppData/Local/Programs/Python/Python39/python.exe -m pip install ipykernel -U --user --force-reinstall'"
     ]
    }
   ],
   "source": [
    "pokemon_with_one_type = Pokemon[Pokemon['Type 2'].isnull()]\n",
    "pokemon_with_two_types = Pokemon[Pokemon['Type 2'].notnull()]\n",
    "\n",
    "total = pokemon_with_one_type.groupby('Type 1')['HP'].mean() + pokemon_with_two_types.groupby('Type 1')['HP'].mean() + pokemon_with_two_types.groupby('Type 2')['HP'].mean()\n",
    "total.astype(int).plot.barh()"
   ]
  },
  {
   "cell_type": "code",
   "execution_count": null,
   "metadata": {},
   "outputs": [
    {
     "ename": "",
     "evalue": "",
     "output_type": "error",
     "traceback": [
      "\u001B[1;31mRunning cells with 'c:\\Users\\Jaron\\AppData\\Local\\Programs\\Python\\Python39\\python.exe' requires ipykernel package.\n",
      "\u001B[1;31mRun the following command to install 'ipykernel' into the Python environment. \n",
      "\u001B[1;31mCommand: 'c:/Users/Jaron/AppData/Local/Programs/Python/Python39/python.exe -m pip install ipykernel -U --user --force-reinstall'"
     ]
    }
   ],
   "source": []
  }
 ],
 "metadata": {
  "kernelspec": {
   "display_name": "Python 3",
   "language": "python",
   "name": "python3"
  },
  "language_info": {
   "codemirror_mode": {
    "name": "ipython",
    "version": 3
   },
   "file_extension": ".py",
   "mimetype": "text/x-python",
   "name": "python",
   "nbconvert_exporter": "python",
   "pygments_lexer": "ipython3",
   "version": "3.9.6 (tags/v3.9.6:db3ff76, Jun 28 2021, 15:26:21) [MSC v.1929 64 bit (AMD64)]"
  },
  "vscode": {
   "interpreter": {
    "hash": "7172f2b8f174afc7041d151ab070c5bd3b5b1232dae8297f5b55bfaee3be80c1"
   }
  }
 },
 "nbformat": 4,
 "nbformat_minor": 1
}
