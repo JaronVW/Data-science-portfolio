{
 "cells": [
  {
   "cell_type": "markdown",
   "source": [
    "# Assignment 5"
   ],
   "metadata": {
    "collapsed": false
   }
  },
  {
   "cell_type": "code",
   "execution_count": 1,
   "outputs": [],
   "source": [
    "import pandas as pd"
   ],
   "metadata": {
    "collapsed": false
   }
  },
  {
   "cell_type": "code",
   "execution_count": 2,
   "outputs": [],
   "source": [
    "lifeExpectancy = pd.read_csv(\"files/lifeExpectancyAtBirth.csv\",sep=\",\")"
   ],
   "metadata": {
    "collapsed": false
   }
  },
  {
   "cell_type": "code",
   "execution_count": 3,
   "outputs": [
    {
     "data": {
      "text/plain": "      Location  Period                         Indicator        Dim1  \\\n0  Afghanistan    2019  Life expectancy at birth (years)  Both sexes   \n1  Afghanistan    2019  Life expectancy at birth (years)        Male   \n2  Afghanistan    2019  Life expectancy at birth (years)      Female   \n3  Afghanistan    2015  Life expectancy at birth (years)  Both sexes   \n4  Afghanistan    2015  Life expectancy at birth (years)        Male   \n\n   First Tooltip  \n0          63.21  \n1          63.29  \n2          63.16  \n3          61.65  \n4          61.04  ",
      "text/html": "<div>\n<style scoped>\n    .dataframe tbody tr th:only-of-type {\n        vertical-align: middle;\n    }\n\n    .dataframe tbody tr th {\n        vertical-align: top;\n    }\n\n    .dataframe thead th {\n        text-align: right;\n    }\n</style>\n<table border=\"1\" class=\"dataframe\">\n  <thead>\n    <tr style=\"text-align: right;\">\n      <th></th>\n      <th>Location</th>\n      <th>Period</th>\n      <th>Indicator</th>\n      <th>Dim1</th>\n      <th>First Tooltip</th>\n    </tr>\n  </thead>\n  <tbody>\n    <tr>\n      <th>0</th>\n      <td>Afghanistan</td>\n      <td>2019</td>\n      <td>Life expectancy at birth (years)</td>\n      <td>Both sexes</td>\n      <td>63.21</td>\n    </tr>\n    <tr>\n      <th>1</th>\n      <td>Afghanistan</td>\n      <td>2019</td>\n      <td>Life expectancy at birth (years)</td>\n      <td>Male</td>\n      <td>63.29</td>\n    </tr>\n    <tr>\n      <th>2</th>\n      <td>Afghanistan</td>\n      <td>2019</td>\n      <td>Life expectancy at birth (years)</td>\n      <td>Female</td>\n      <td>63.16</td>\n    </tr>\n    <tr>\n      <th>3</th>\n      <td>Afghanistan</td>\n      <td>2015</td>\n      <td>Life expectancy at birth (years)</td>\n      <td>Both sexes</td>\n      <td>61.65</td>\n    </tr>\n    <tr>\n      <th>4</th>\n      <td>Afghanistan</td>\n      <td>2015</td>\n      <td>Life expectancy at birth (years)</td>\n      <td>Male</td>\n      <td>61.04</td>\n    </tr>\n  </tbody>\n</table>\n</div>"
     },
     "execution_count": 3,
     "metadata": {},
     "output_type": "execute_result"
    }
   ],
   "source": [
    "lifeExpectancy.head()"
   ],
   "metadata": {
    "collapsed": false
   }
  },
  {
   "cell_type": "code",
   "execution_count": 4,
   "outputs": [],
   "source": [
    "YearFilter = lifeExpectancy[\"Period\"] == 2019\n",
    "Dim1Filter = lifeExpectancy[\"Dim1\"].str.fullmatch(\"Both sexes\")"
   ],
   "metadata": {
    "collapsed": false
   }
  },
  {
   "cell_type": "code",
   "execution_count": 5,
   "outputs": [
    {
     "data": {
      "text/plain": "               Location  First Tooltip\n997               Japan          84.26\n1897        Switzerland          83.45\n1573  Republic of Korea          83.30\n1753          Singapore          83.22\n1837              Spain          83.22",
      "text/html": "<div>\n<style scoped>\n    .dataframe tbody tr th:only-of-type {\n        vertical-align: middle;\n    }\n\n    .dataframe tbody tr th {\n        vertical-align: top;\n    }\n\n    .dataframe thead th {\n        text-align: right;\n    }\n</style>\n<table border=\"1\" class=\"dataframe\">\n  <thead>\n    <tr style=\"text-align: right;\">\n      <th></th>\n      <th>Location</th>\n      <th>First Tooltip</th>\n    </tr>\n  </thead>\n  <tbody>\n    <tr>\n      <th>997</th>\n      <td>Japan</td>\n      <td>84.26</td>\n    </tr>\n    <tr>\n      <th>1897</th>\n      <td>Switzerland</td>\n      <td>83.45</td>\n    </tr>\n    <tr>\n      <th>1573</th>\n      <td>Republic of Korea</td>\n      <td>83.30</td>\n    </tr>\n    <tr>\n      <th>1753</th>\n      <td>Singapore</td>\n      <td>83.22</td>\n    </tr>\n    <tr>\n      <th>1837</th>\n      <td>Spain</td>\n      <td>83.22</td>\n    </tr>\n  </tbody>\n</table>\n</div>"
     },
     "execution_count": 5,
     "metadata": {},
     "output_type": "execute_result"
    }
   ],
   "source": [
    "lifeExpectancy.loc[YearFilter & Dim1Filter,[\"Location\",\"First Tooltip\"]].nlargest(5, 'First Tooltip')"
   ],
   "metadata": {
    "collapsed": false
   }
  },
  {
   "cell_type": "code",
   "execution_count": 6,
   "outputs": [
    {
     "data": {
      "text/plain": "                      Location  First Tooltip\n1117                   Lesotho          50.75\n373   Central African Republic          53.10\n1801                   Somalia          56.47\n661                   Eswatini          57.73\n1333                Mozambique          58.14",
      "text/html": "<div>\n<style scoped>\n    .dataframe tbody tr th:only-of-type {\n        vertical-align: middle;\n    }\n\n    .dataframe tbody tr th {\n        vertical-align: top;\n    }\n\n    .dataframe thead th {\n        text-align: right;\n    }\n</style>\n<table border=\"1\" class=\"dataframe\">\n  <thead>\n    <tr style=\"text-align: right;\">\n      <th></th>\n      <th>Location</th>\n      <th>First Tooltip</th>\n    </tr>\n  </thead>\n  <tbody>\n    <tr>\n      <th>1117</th>\n      <td>Lesotho</td>\n      <td>50.75</td>\n    </tr>\n    <tr>\n      <th>373</th>\n      <td>Central African Republic</td>\n      <td>53.10</td>\n    </tr>\n    <tr>\n      <th>1801</th>\n      <td>Somalia</td>\n      <td>56.47</td>\n    </tr>\n    <tr>\n      <th>661</th>\n      <td>Eswatini</td>\n      <td>57.73</td>\n    </tr>\n    <tr>\n      <th>1333</th>\n      <td>Mozambique</td>\n      <td>58.14</td>\n    </tr>\n  </tbody>\n</table>\n</div>"
     },
     "execution_count": 6,
     "metadata": {},
     "output_type": "execute_result"
    }
   ],
   "source": [
    "lifeExpectancy.loc[YearFilter & Dim1Filter,[\"Location\",\"First Tooltip\"]].nsmallest(5, 'First Tooltip')"
   ],
   "metadata": {
    "collapsed": false
   }
  }
 ],
 "metadata": {
  "kernelspec": {
   "display_name": "Python 3",
   "language": "python",
   "name": "python3"
  },
  "language_info": {
   "codemirror_mode": {
    "name": "ipython",
    "version": 2
   },
   "file_extension": ".py",
   "mimetype": "text/x-python",
   "name": "python",
   "nbconvert_exporter": "python",
   "pygments_lexer": "ipython2",
   "version": "2.7.6"
  }
 },
 "nbformat": 4,
 "nbformat_minor": 0
}
