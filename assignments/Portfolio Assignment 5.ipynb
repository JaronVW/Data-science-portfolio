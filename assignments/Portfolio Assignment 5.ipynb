{
 "cells": [
  {
   "cell_type": "markdown",
   "source": [
    "# Assignment 5"
   ],
   "metadata": {
    "collapsed": false
   }
  },
  {
   "cell_type": "code",
   "execution_count": 100,
   "outputs": [],
   "source": [
    "import pandas as pd"
   ],
   "metadata": {
    "collapsed": false
   }
  },
  {
   "cell_type": "code",
   "execution_count": 101,
   "outputs": [],
   "source": [
    "lifeExpectancy = pd.read_csv(\"lifeExpectancyAtBirth.csv\",sep=\",\")"
   ],
   "metadata": {
    "collapsed": false
   }
  },
  {
   "cell_type": "code",
   "execution_count": 102,
   "outputs": [
    {
     "data": {
      "text/plain": "      Location  Period                         Indicator        Dim1  \\\n0  Afghanistan    2019  Life expectancy at birth (years)  Both sexes   \n1  Afghanistan    2019  Life expectancy at birth (years)        Male   \n2  Afghanistan    2019  Life expectancy at birth (years)      Female   \n3  Afghanistan    2015  Life expectancy at birth (years)  Both sexes   \n4  Afghanistan    2015  Life expectancy at birth (years)        Male   \n\n   First Tooltip  \n0          63.21  \n1          63.29  \n2          63.16  \n3          61.65  \n4          61.04  ",
      "text/html": "<div>\n<style scoped>\n    .dataframe tbody tr th:only-of-type {\n        vertical-align: middle;\n    }\n\n    .dataframe tbody tr th {\n        vertical-align: top;\n    }\n\n    .dataframe thead th {\n        text-align: right;\n    }\n</style>\n<table border=\"1\" class=\"dataframe\">\n  <thead>\n    <tr style=\"text-align: right;\">\n      <th></th>\n      <th>Location</th>\n      <th>Period</th>\n      <th>Indicator</th>\n      <th>Dim1</th>\n      <th>First Tooltip</th>\n    </tr>\n  </thead>\n  <tbody>\n    <tr>\n      <th>0</th>\n      <td>Afghanistan</td>\n      <td>2019</td>\n      <td>Life expectancy at birth (years)</td>\n      <td>Both sexes</td>\n      <td>63.21</td>\n    </tr>\n    <tr>\n      <th>1</th>\n      <td>Afghanistan</td>\n      <td>2019</td>\n      <td>Life expectancy at birth (years)</td>\n      <td>Male</td>\n      <td>63.29</td>\n    </tr>\n    <tr>\n      <th>2</th>\n      <td>Afghanistan</td>\n      <td>2019</td>\n      <td>Life expectancy at birth (years)</td>\n      <td>Female</td>\n      <td>63.16</td>\n    </tr>\n    <tr>\n      <th>3</th>\n      <td>Afghanistan</td>\n      <td>2015</td>\n      <td>Life expectancy at birth (years)</td>\n      <td>Both sexes</td>\n      <td>61.65</td>\n    </tr>\n    <tr>\n      <th>4</th>\n      <td>Afghanistan</td>\n      <td>2015</td>\n      <td>Life expectancy at birth (years)</td>\n      <td>Male</td>\n      <td>61.04</td>\n    </tr>\n  </tbody>\n</table>\n</div>"
     },
     "execution_count": 102,
     "metadata": {},
     "output_type": "execute_result"
    }
   ],
   "source": [
    "lifeExpectancy.head()"
   ],
   "metadata": {
    "collapsed": false
   }
  },
  {
   "cell_type": "code",
   "execution_count": 103,
   "outputs": [],
   "source": [
    "YearFilter = lifeExpectancy[\"Period\"] == 2019\n",
    "Dim1Filter = lifeExpectancy[\"Dim1\"].str.fullmatch(\"Both sexes\")"
   ],
   "metadata": {
    "collapsed": false
   }
  },
  {
   "cell_type": "code",
   "execution_count": 104,
   "outputs": [
    {
     "data": {
      "text/plain": "                                               Location  First Tooltip\n997                                               Japan          84.26\n1897                                        Switzerland          83.45\n1573                                  Republic of Korea          83.30\n1753                                          Singapore          83.22\n1837                                              Spain          83.22\n505                                              Cyprus          83.14\n84                                            Australia          83.04\n973                                               Italy          82.97\n961                                              Israel          82.62\n1441                                             Norway          82.62\n709                                              France          82.48\n1165                                         Luxembourg          82.41\n1885                                             Sweden          82.40\n889                                             Iceland          82.33\n360                                              Canada          82.24\n1393                                        New Zealand          81.96\n1237                                              Malta          81.89\n949                                             Ireland          81.84\n1381                                        Netherlands          81.79\n757                                             Germany          81.72\n96                                              Austria          81.65\n697                                             Finland          81.61\n1549                                           Portugal          81.57\n180                                             Belgium          81.42\n2065  United Kingdom of Great Britain and Northern I...          81.40\n553                                             Denmark          81.32\n1777                                           Slovenia          81.31\n781                                              Greece          81.10\n1057                                             Kuwait          80.97\n457                                          Costa Rica          80.85",
      "text/html": "<div>\n<style scoped>\n    .dataframe tbody tr th:only-of-type {\n        vertical-align: middle;\n    }\n\n    .dataframe tbody tr th {\n        vertical-align: top;\n    }\n\n    .dataframe thead th {\n        text-align: right;\n    }\n</style>\n<table border=\"1\" class=\"dataframe\">\n  <thead>\n    <tr style=\"text-align: right;\">\n      <th></th>\n      <th>Location</th>\n      <th>First Tooltip</th>\n    </tr>\n  </thead>\n  <tbody>\n    <tr>\n      <th>997</th>\n      <td>Japan</td>\n      <td>84.26</td>\n    </tr>\n    <tr>\n      <th>1897</th>\n      <td>Switzerland</td>\n      <td>83.45</td>\n    </tr>\n    <tr>\n      <th>1573</th>\n      <td>Republic of Korea</td>\n      <td>83.30</td>\n    </tr>\n    <tr>\n      <th>1753</th>\n      <td>Singapore</td>\n      <td>83.22</td>\n    </tr>\n    <tr>\n      <th>1837</th>\n      <td>Spain</td>\n      <td>83.22</td>\n    </tr>\n    <tr>\n      <th>505</th>\n      <td>Cyprus</td>\n      <td>83.14</td>\n    </tr>\n    <tr>\n      <th>84</th>\n      <td>Australia</td>\n      <td>83.04</td>\n    </tr>\n    <tr>\n      <th>973</th>\n      <td>Italy</td>\n      <td>82.97</td>\n    </tr>\n    <tr>\n      <th>961</th>\n      <td>Israel</td>\n      <td>82.62</td>\n    </tr>\n    <tr>\n      <th>1441</th>\n      <td>Norway</td>\n      <td>82.62</td>\n    </tr>\n    <tr>\n      <th>709</th>\n      <td>France</td>\n      <td>82.48</td>\n    </tr>\n    <tr>\n      <th>1165</th>\n      <td>Luxembourg</td>\n      <td>82.41</td>\n    </tr>\n    <tr>\n      <th>1885</th>\n      <td>Sweden</td>\n      <td>82.40</td>\n    </tr>\n    <tr>\n      <th>889</th>\n      <td>Iceland</td>\n      <td>82.33</td>\n    </tr>\n    <tr>\n      <th>360</th>\n      <td>Canada</td>\n      <td>82.24</td>\n    </tr>\n    <tr>\n      <th>1393</th>\n      <td>New Zealand</td>\n      <td>81.96</td>\n    </tr>\n    <tr>\n      <th>1237</th>\n      <td>Malta</td>\n      <td>81.89</td>\n    </tr>\n    <tr>\n      <th>949</th>\n      <td>Ireland</td>\n      <td>81.84</td>\n    </tr>\n    <tr>\n      <th>1381</th>\n      <td>Netherlands</td>\n      <td>81.79</td>\n    </tr>\n    <tr>\n      <th>757</th>\n      <td>Germany</td>\n      <td>81.72</td>\n    </tr>\n    <tr>\n      <th>96</th>\n      <td>Austria</td>\n      <td>81.65</td>\n    </tr>\n    <tr>\n      <th>697</th>\n      <td>Finland</td>\n      <td>81.61</td>\n    </tr>\n    <tr>\n      <th>1549</th>\n      <td>Portugal</td>\n      <td>81.57</td>\n    </tr>\n    <tr>\n      <th>180</th>\n      <td>Belgium</td>\n      <td>81.42</td>\n    </tr>\n    <tr>\n      <th>2065</th>\n      <td>United Kingdom of Great Britain and Northern I...</td>\n      <td>81.40</td>\n    </tr>\n    <tr>\n      <th>553</th>\n      <td>Denmark</td>\n      <td>81.32</td>\n    </tr>\n    <tr>\n      <th>1777</th>\n      <td>Slovenia</td>\n      <td>81.31</td>\n    </tr>\n    <tr>\n      <th>781</th>\n      <td>Greece</td>\n      <td>81.10</td>\n    </tr>\n    <tr>\n      <th>1057</th>\n      <td>Kuwait</td>\n      <td>80.97</td>\n    </tr>\n    <tr>\n      <th>457</th>\n      <td>Costa Rica</td>\n      <td>80.85</td>\n    </tr>\n  </tbody>\n</table>\n</div>"
     },
     "execution_count": 104,
     "metadata": {},
     "output_type": "execute_result"
    }
   ],
   "source": [
    "lifeExpectancy.loc[YearFilter & Dim1Filter,[\"Location\",\"First Tooltip\"]].nlargest(30, 'First Tooltip')"
   ],
   "metadata": {
    "collapsed": false
   }
  },
  {
   "cell_type": "code",
   "execution_count": 105,
   "outputs": [
    {
     "data": {
      "text/plain": "                      Location  First Tooltip\n1117                   Lesotho          50.75\n373   Central African Republic          53.10\n1801                   Somalia          56.47\n661                   Eswatini          57.73\n1333                Mozambique          58.14",
      "text/html": "<div>\n<style scoped>\n    .dataframe tbody tr th:only-of-type {\n        vertical-align: middle;\n    }\n\n    .dataframe tbody tr th {\n        vertical-align: top;\n    }\n\n    .dataframe thead th {\n        text-align: right;\n    }\n</style>\n<table border=\"1\" class=\"dataframe\">\n  <thead>\n    <tr style=\"text-align: right;\">\n      <th></th>\n      <th>Location</th>\n      <th>First Tooltip</th>\n    </tr>\n  </thead>\n  <tbody>\n    <tr>\n      <th>1117</th>\n      <td>Lesotho</td>\n      <td>50.75</td>\n    </tr>\n    <tr>\n      <th>373</th>\n      <td>Central African Republic</td>\n      <td>53.10</td>\n    </tr>\n    <tr>\n      <th>1801</th>\n      <td>Somalia</td>\n      <td>56.47</td>\n    </tr>\n    <tr>\n      <th>661</th>\n      <td>Eswatini</td>\n      <td>57.73</td>\n    </tr>\n    <tr>\n      <th>1333</th>\n      <td>Mozambique</td>\n      <td>58.14</td>\n    </tr>\n  </tbody>\n</table>\n</div>"
     },
     "execution_count": 105,
     "metadata": {},
     "output_type": "execute_result"
    }
   ],
   "source": [
    "lifeExpectancy.loc[YearFilter & Dim1Filter,[\"Location\",\"First Tooltip\"]].nsmallest(5, 'First Tooltip')"
   ],
   "metadata": {
    "collapsed": false
   }
  }
 ],
 "metadata": {
  "kernelspec": {
   "display_name": "Python 3",
   "language": "python",
   "name": "python3"
  },
  "language_info": {
   "codemirror_mode": {
    "name": "ipython",
    "version": 2
   },
   "file_extension": ".py",
   "mimetype": "text/x-python",
   "name": "python",
   "nbconvert_exporter": "python",
   "pygments_lexer": "ipython2",
   "version": "2.7.6"
  }
 },
 "nbformat": 4,
 "nbformat_minor": 0
}
