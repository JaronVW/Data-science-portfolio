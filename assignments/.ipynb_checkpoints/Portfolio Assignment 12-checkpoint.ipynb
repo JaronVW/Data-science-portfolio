{
 "cells": [
  {
   "cell_type": "markdown",
   "metadata": {},
   "source": [
    "# Assignment 12: Bivariate Analysis categorical vs numerical:\n"
   ]
  },
  {
   "cell_type": "code",
   "execution_count": 1,
   "metadata": {},
   "outputs": [],
   "source": [
    "import pandas as pd\n",
    "import seaborn as sns\n",
    "Pokemon = pd.read_csv('../files/All_Pokemon.csv')"
   ]
  },
  {
   "cell_type": "markdown",
   "metadata": {},
   "source": []
  },
  {
   "cell_type": "code",
   "execution_count": 2,
   "metadata": {},
   "outputs": [
    {
     "data": {
      "text/html": [
       "<div>\n",
       "<style scoped>\n",
       "    .dataframe tbody tr th:only-of-type {\n",
       "        vertical-align: middle;\n",
       "    }\n",
       "\n",
       "    .dataframe tbody tr th {\n",
       "        vertical-align: top;\n",
       "    }\n",
       "\n",
       "    .dataframe thead th {\n",
       "        text-align: right;\n",
       "    }\n",
       "</style>\n",
       "<table border=\"1\" class=\"dataframe\">\n",
       "  <thead>\n",
       "    <tr style=\"text-align: right;\">\n",
       "      <th></th>\n",
       "      <th>Number</th>\n",
       "      <th>Name</th>\n",
       "      <th>Type 1</th>\n",
       "      <th>Type 2</th>\n",
       "      <th>Abilities</th>\n",
       "      <th>HP</th>\n",
       "      <th>Att</th>\n",
       "      <th>Def</th>\n",
       "      <th>Spa</th>\n",
       "      <th>Spd</th>\n",
       "      <th>...</th>\n",
       "      <th>Against Bug</th>\n",
       "      <th>Against Rock</th>\n",
       "      <th>Against Ghost</th>\n",
       "      <th>Against Dragon</th>\n",
       "      <th>Against Dark</th>\n",
       "      <th>Against Steel</th>\n",
       "      <th>Against Fairy</th>\n",
       "      <th>Height</th>\n",
       "      <th>Weight</th>\n",
       "      <th>BMI</th>\n",
       "    </tr>\n",
       "  </thead>\n",
       "  <tbody>\n",
       "    <tr>\n",
       "      <th>0</th>\n",
       "      <td>1</td>\n",
       "      <td>Bulbasaur</td>\n",
       "      <td>Grass</td>\n",
       "      <td>Poison</td>\n",
       "      <td>['Chlorophyll', 'Overgrow']</td>\n",
       "      <td>45</td>\n",
       "      <td>49</td>\n",
       "      <td>49</td>\n",
       "      <td>65</td>\n",
       "      <td>65</td>\n",
       "      <td>...</td>\n",
       "      <td>1.0</td>\n",
       "      <td>1.0</td>\n",
       "      <td>1.0</td>\n",
       "      <td>1.0</td>\n",
       "      <td>1.0</td>\n",
       "      <td>1.0</td>\n",
       "      <td>0.5</td>\n",
       "      <td>0.7</td>\n",
       "      <td>6.9</td>\n",
       "      <td>14.1</td>\n",
       "    </tr>\n",
       "    <tr>\n",
       "      <th>1</th>\n",
       "      <td>2</td>\n",
       "      <td>Ivysaur</td>\n",
       "      <td>Grass</td>\n",
       "      <td>Poison</td>\n",
       "      <td>['Chlorophyll', 'Overgrow']</td>\n",
       "      <td>60</td>\n",
       "      <td>62</td>\n",
       "      <td>63</td>\n",
       "      <td>80</td>\n",
       "      <td>80</td>\n",
       "      <td>...</td>\n",
       "      <td>1.0</td>\n",
       "      <td>1.0</td>\n",
       "      <td>1.0</td>\n",
       "      <td>1.0</td>\n",
       "      <td>1.0</td>\n",
       "      <td>1.0</td>\n",
       "      <td>0.5</td>\n",
       "      <td>1.0</td>\n",
       "      <td>13.0</td>\n",
       "      <td>13.0</td>\n",
       "    </tr>\n",
       "    <tr>\n",
       "      <th>2</th>\n",
       "      <td>3</td>\n",
       "      <td>Venusaur</td>\n",
       "      <td>Grass</td>\n",
       "      <td>Poison</td>\n",
       "      <td>['Chlorophyll', 'Overgrow']</td>\n",
       "      <td>80</td>\n",
       "      <td>82</td>\n",
       "      <td>83</td>\n",
       "      <td>100</td>\n",
       "      <td>100</td>\n",
       "      <td>...</td>\n",
       "      <td>1.0</td>\n",
       "      <td>1.0</td>\n",
       "      <td>1.0</td>\n",
       "      <td>1.0</td>\n",
       "      <td>1.0</td>\n",
       "      <td>1.0</td>\n",
       "      <td>0.5</td>\n",
       "      <td>2.0</td>\n",
       "      <td>100.0</td>\n",
       "      <td>25.0</td>\n",
       "    </tr>\n",
       "    <tr>\n",
       "      <th>3</th>\n",
       "      <td>3</td>\n",
       "      <td>Mega Venusaur</td>\n",
       "      <td>Grass</td>\n",
       "      <td>Poison</td>\n",
       "      <td>['Thick Fat']</td>\n",
       "      <td>80</td>\n",
       "      <td>100</td>\n",
       "      <td>123</td>\n",
       "      <td>122</td>\n",
       "      <td>120</td>\n",
       "      <td>...</td>\n",
       "      <td>1.0</td>\n",
       "      <td>1.0</td>\n",
       "      <td>1.0</td>\n",
       "      <td>1.0</td>\n",
       "      <td>1.0</td>\n",
       "      <td>1.0</td>\n",
       "      <td>0.5</td>\n",
       "      <td>2.4</td>\n",
       "      <td>155.5</td>\n",
       "      <td>27.0</td>\n",
       "    </tr>\n",
       "    <tr>\n",
       "      <th>4</th>\n",
       "      <td>4</td>\n",
       "      <td>Charmander</td>\n",
       "      <td>Fire</td>\n",
       "      <td>NaN</td>\n",
       "      <td>['Blaze', 'Solar Power']</td>\n",
       "      <td>39</td>\n",
       "      <td>52</td>\n",
       "      <td>43</td>\n",
       "      <td>60</td>\n",
       "      <td>50</td>\n",
       "      <td>...</td>\n",
       "      <td>0.5</td>\n",
       "      <td>2.0</td>\n",
       "      <td>1.0</td>\n",
       "      <td>1.0</td>\n",
       "      <td>1.0</td>\n",
       "      <td>0.5</td>\n",
       "      <td>0.5</td>\n",
       "      <td>0.6</td>\n",
       "      <td>8.5</td>\n",
       "      <td>23.6</td>\n",
       "    </tr>\n",
       "  </tbody>\n",
       "</table>\n",
       "<p>5 rows × 44 columns</p>\n",
       "</div>"
      ],
      "text/plain": [
       "   Number           Name Type 1  Type 2                    Abilities  HP  Att  \\\n",
       "0       1      Bulbasaur  Grass  Poison  ['Chlorophyll', 'Overgrow']  45   49   \n",
       "1       2        Ivysaur  Grass  Poison  ['Chlorophyll', 'Overgrow']  60   62   \n",
       "2       3       Venusaur  Grass  Poison  ['Chlorophyll', 'Overgrow']  80   82   \n",
       "3       3  Mega Venusaur  Grass  Poison                ['Thick Fat']  80  100   \n",
       "4       4     Charmander   Fire     NaN     ['Blaze', 'Solar Power']  39   52   \n",
       "\n",
       "   Def  Spa  Spd  ...  Against Bug  Against Rock  Against Ghost  \\\n",
       "0   49   65   65  ...          1.0           1.0            1.0   \n",
       "1   63   80   80  ...          1.0           1.0            1.0   \n",
       "2   83  100  100  ...          1.0           1.0            1.0   \n",
       "3  123  122  120  ...          1.0           1.0            1.0   \n",
       "4   43   60   50  ...          0.5           2.0            1.0   \n",
       "\n",
       "   Against Dragon  Against Dark Against Steel  Against Fairy  Height  Weight  \\\n",
       "0             1.0           1.0           1.0            0.5     0.7     6.9   \n",
       "1             1.0           1.0           1.0            0.5     1.0    13.0   \n",
       "2             1.0           1.0           1.0            0.5     2.0   100.0   \n",
       "3             1.0           1.0           1.0            0.5     2.4   155.5   \n",
       "4             1.0           1.0           0.5            0.5     0.6     8.5   \n",
       "\n",
       "    BMI  \n",
       "0  14.1  \n",
       "1  13.0  \n",
       "2  25.0  \n",
       "3  27.0  \n",
       "4  23.6  \n",
       "\n",
       "[5 rows x 44 columns]"
      ]
     },
     "execution_count": 2,
     "metadata": {},
     "output_type": "execute_result"
    }
   ],
   "source": [
    "Pokemon.head()"
   ]
  },
  {
   "cell_type": "markdown",
   "metadata": {},
   "source": [
    "## 1.1 average HP per Pokémon type"
   ]
  },
  {
   "cell_type": "code",
   "execution_count": 3,
   "metadata": {},
   "outputs": [
    {
     "data": {
      "text/plain": [
       "Type 1\n",
       "Bug         57.024691\n",
       "Dark        70.065217\n",
       "Dragon      86.785714\n",
       "Electric    62.389831\n",
       "Fairy       72.954545\n",
       "Fighting    72.928571\n",
       "Fire        69.421875\n",
       "Flying      69.625000\n",
       "Ghost       62.731707\n",
       "Grass       66.736264\n",
       "Ground      70.853659\n",
       "Ice         71.947368\n",
       "Normal      77.157895\n",
       "Poison      70.475000\n",
       "Psychic     73.714286\n",
       "Rock        67.474576\n",
       "Steel       68.972222\n",
       "Water       70.748092\n",
       "Name: HP, dtype: float64"
      ]
     },
     "execution_count": 3,
     "metadata": {},
     "output_type": "execute_result"
    }
   ],
   "source": [
    "Pokemon.groupby('Type 1')['HP'].mean()"
   ]
  },
  {
   "cell_type": "code",
   "execution_count": 4,
   "metadata": {},
   "outputs": [
    {
     "data": {
      "text/plain": [
       "<AxesSubplot:xlabel='HP', ylabel='Type 1'>"
      ]
     },
     "execution_count": 4,
     "metadata": {},
     "output_type": "execute_result"
    },
    {
     "data": {
      "image/png": "[encoded data removed]",
      "text/plain": [
       "<Figure size 640x480 with 1 Axes>"
      ]
     },
     "metadata": {},
     "output_type": "display_data"
    }
   ],
   "source": [
    "sns.barplot(x='HP', y='Type 1', data=Pokemon,orient = 'h')"
   ]
  },
  {
   "cell_type": "markdown",
   "metadata": {},
   "source": [
    "## 1.2 average HP per secondary Pokémon type"
   ]
  },
  {
   "cell_type": "code",
   "execution_count": 5,
   "metadata": {},
   "outputs": [
    {
     "data": {
      "text/plain": [
       "Type 2\n",
       "Bug         57.333333\n",
       "Dark        77.730769\n",
       "Dragon      85.500000\n",
       "Electric    76.181818\n",
       "Fairy       64.365854\n",
       "Fighting    79.774194\n",
       "Fire        74.470588\n",
       "Flying      71.946429\n",
       "Ghost       68.629630\n",
       "Grass       65.750000\n",
       "Ground      79.820513\n",
       "Ice         90.944444\n",
       "Normal      62.800000\n",
       "Poison      60.054054\n",
       "Psychic     73.119048\n",
       "Rock        70.866667\n",
       "Steel       68.628571\n",
       "Water       62.400000\n",
       "Name: HP, dtype: float64"
      ]
     },
     "execution_count": 5,
     "metadata": {},
     "output_type": "execute_result"
    }
   ],
   "source": [
    "Pokemon.groupby('Type 2')['HP'].mean()"
   ]
  },
  {
   "cell_type": "code",
   "execution_count": 6,
   "metadata": {},
   "outputs": [
    {
     "data": {
      "text/plain": [
       "<AxesSubplot:xlabel='HP', ylabel='Type 2'>"
      ]
     },
     "execution_count": 6,
     "metadata": {},
     "output_type": "execute_result"
    },
    {
     "data": {
      "image/png": "[encoded data removed]",
      "text/plain": [
       "<Figure size 640x480 with 1 Axes>"
      ]
     },
     "metadata": {},
     "output_type": "display_data"
    }
   ],
   "source": [
    "sns.barplot(x='HP', y='Type 2', data=Pokemon,orient = 'h')"
   ]
  },
  {
   "cell_type": "markdown",
   "metadata": {},
   "source": [
    "## 1.3 average HP per generation"
   ]
  },
  {
   "cell_type": "code",
   "execution_count": 7,
   "metadata": {},
   "outputs": [
    {
     "data": {
      "text/plain": [
       "Generation\n",
       "1.0    64.211921\n",
       "2.0    70.980000\n",
       "3.0    65.326087\n",
       "4.0    72.775862\n",
       "5.0    71.601227\n",
       "6.0    73.323308\n",
       "7.0    69.793103\n",
       "8.0    72.808696\n",
       "Name: HP, dtype: float64"
      ]
     },
     "execution_count": 7,
     "metadata": {},
     "output_type": "execute_result"
    }
   ],
   "source": [
    "Pokemon.groupby('Generation')['HP'].mean()"
   ]
  },
  {
   "cell_type": "code",
   "execution_count": 8,
   "metadata": {},
   "outputs": [
    {
     "data": {
      "text/plain": [
       "<AxesSubplot:xlabel='Generation', ylabel='HP'>"
      ]
     },
     "execution_count": 8,
     "metadata": {},
     "output_type": "execute_result"
    },
    {
     "data": {
      "image/png": "[encoded data removed]",
      "text/plain": [
       "<Figure size 640x480 with 1 Axes>"
      ]
     },
     "metadata": {},
     "output_type": "display_data"
    }
   ],
   "source": [
    "sns.barplot(x='Generation', y='HP', data=Pokemon,)"
   ]
  },
  {
   "cell_type": "code",
   "execution_count": 11,
   "metadata": {},
   "outputs": [],
   "source": []
  }
 ],
 "metadata": {
  "kernelspec": {
   "display_name": "Python 3 (ipykernel)",
   "language": "python",
   "name": "python3"
  },
  "language_info": {
   "codemirror_mode": {
    "name": "ipython",
    "version": 3
   },
   "file_extension": ".py",
   "mimetype": "text/x-python",
   "name": "python",
   "nbconvert_exporter": "python",
   "pygments_lexer": "ipython3",
   "version": "3.9.13"
  }
 },
 "nbformat": 4,
 "nbformat_minor": 1
}
