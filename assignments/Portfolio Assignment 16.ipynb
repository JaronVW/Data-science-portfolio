{
 "cells": [
  {
   "cell_type": "code",
   "execution_count": 588,
   "metadata": {
    "collapsed": true
   },
   "outputs": [],
   "source": [
    "import pandas as pd\n",
    "import seaborn as sns\n",
    "from sklearn.tree import DecisionTreeClassifier\n",
    "from sklearn.model_selection import train_test_split\n",
    "from sklearn import tree\n",
    "import graphviz"
   ]
  },
  {
   "cell_type": "code",
   "execution_count": 589,
   "outputs": [],
   "source": [
    "Pokemon = pd.read_csv(\"../files/All_Pokemon.csv\")"
   ],
   "metadata": {
    "collapsed": false
   }
  },
  {
   "cell_type": "code",
   "execution_count": 590,
   "outputs": [],
   "source": [
    "Pokemon = Pokemon.rename(columns={'Type 1': 'Type_1', 'Type 2': 'Type_2'})"
   ],
   "metadata": {
    "collapsed": false
   }
  },
  {
   "cell_type": "code",
   "execution_count": 591,
   "outputs": [
    {
     "data": {
      "text/plain": "   Number           Name Type_1  Type_2                    Abilities  HP  Att  \\\n0       1      Bulbasaur  Grass  Poison  ['Chlorophyll', 'Overgrow']  45   49   \n1       2        Ivysaur  Grass  Poison  ['Chlorophyll', 'Overgrow']  60   62   \n2       3       Venusaur  Grass  Poison  ['Chlorophyll', 'Overgrow']  80   82   \n3       3  Mega Venusaur  Grass  Poison                ['Thick Fat']  80  100   \n4       4     Charmander   Fire     NaN     ['Blaze', 'Solar Power']  39   52   \n\n   Def  Spa  Spd  ...  Against Bug  Against Rock  Against Ghost  \\\n0   49   65   65  ...          1.0           1.0            1.0   \n1   63   80   80  ...          1.0           1.0            1.0   \n2   83  100  100  ...          1.0           1.0            1.0   \n3  123  122  120  ...          1.0           1.0            1.0   \n4   43   60   50  ...          0.5           2.0            1.0   \n\n   Against Dragon  Against Dark Against Steel  Against Fairy  Height  Weight  \\\n0             1.0           1.0           1.0            0.5     0.7     6.9   \n1             1.0           1.0           1.0            0.5     1.0    13.0   \n2             1.0           1.0           1.0            0.5     2.0   100.0   \n3             1.0           1.0           1.0            0.5     2.4   155.5   \n4             1.0           1.0           0.5            0.5     0.6     8.5   \n\n    BMI  \n0  14.1  \n1  13.0  \n2  25.0  \n3  27.0  \n4  23.6  \n\n[5 rows x 44 columns]",
      "text/html": "<div>\n<style scoped>\n    .dataframe tbody tr th:only-of-type {\n        vertical-align: middle;\n    }\n\n    .dataframe tbody tr th {\n        vertical-align: top;\n    }\n\n    .dataframe thead th {\n        text-align: right;\n    }\n</style>\n<table border=\"1\" class=\"dataframe\">\n  <thead>\n    <tr style=\"text-align: right;\">\n      <th></th>\n      <th>Number</th>\n      <th>Name</th>\n      <th>Type_1</th>\n      <th>Type_2</th>\n      <th>Abilities</th>\n      <th>HP</th>\n      <th>Att</th>\n      <th>Def</th>\n      <th>Spa</th>\n      <th>Spd</th>\n      <th>...</th>\n      <th>Against Bug</th>\n      <th>Against Rock</th>\n      <th>Against Ghost</th>\n      <th>Against Dragon</th>\n      <th>Against Dark</th>\n      <th>Against Steel</th>\n      <th>Against Fairy</th>\n      <th>Height</th>\n      <th>Weight</th>\n      <th>BMI</th>\n    </tr>\n  </thead>\n  <tbody>\n    <tr>\n      <th>0</th>\n      <td>1</td>\n      <td>Bulbasaur</td>\n      <td>Grass</td>\n      <td>Poison</td>\n      <td>['Chlorophyll', 'Overgrow']</td>\n      <td>45</td>\n      <td>49</td>\n      <td>49</td>\n      <td>65</td>\n      <td>65</td>\n      <td>...</td>\n      <td>1.0</td>\n      <td>1.0</td>\n      <td>1.0</td>\n      <td>1.0</td>\n      <td>1.0</td>\n      <td>1.0</td>\n      <td>0.5</td>\n      <td>0.7</td>\n      <td>6.9</td>\n      <td>14.1</td>\n    </tr>\n    <tr>\n      <th>1</th>\n      <td>2</td>\n      <td>Ivysaur</td>\n      <td>Grass</td>\n      <td>Poison</td>\n      <td>['Chlorophyll', 'Overgrow']</td>\n      <td>60</td>\n      <td>62</td>\n      <td>63</td>\n      <td>80</td>\n      <td>80</td>\n      <td>...</td>\n      <td>1.0</td>\n      <td>1.0</td>\n      <td>1.0</td>\n      <td>1.0</td>\n      <td>1.0</td>\n      <td>1.0</td>\n      <td>0.5</td>\n      <td>1.0</td>\n      <td>13.0</td>\n      <td>13.0</td>\n    </tr>\n    <tr>\n      <th>2</th>\n      <td>3</td>\n      <td>Venusaur</td>\n      <td>Grass</td>\n      <td>Poison</td>\n      <td>['Chlorophyll', 'Overgrow']</td>\n      <td>80</td>\n      <td>82</td>\n      <td>83</td>\n      <td>100</td>\n      <td>100</td>\n      <td>...</td>\n      <td>1.0</td>\n      <td>1.0</td>\n      <td>1.0</td>\n      <td>1.0</td>\n      <td>1.0</td>\n      <td>1.0</td>\n      <td>0.5</td>\n      <td>2.0</td>\n      <td>100.0</td>\n      <td>25.0</td>\n    </tr>\n    <tr>\n      <th>3</th>\n      <td>3</td>\n      <td>Mega Venusaur</td>\n      <td>Grass</td>\n      <td>Poison</td>\n      <td>['Thick Fat']</td>\n      <td>80</td>\n      <td>100</td>\n      <td>123</td>\n      <td>122</td>\n      <td>120</td>\n      <td>...</td>\n      <td>1.0</td>\n      <td>1.0</td>\n      <td>1.0</td>\n      <td>1.0</td>\n      <td>1.0</td>\n      <td>1.0</td>\n      <td>0.5</td>\n      <td>2.4</td>\n      <td>155.5</td>\n      <td>27.0</td>\n    </tr>\n    <tr>\n      <th>4</th>\n      <td>4</td>\n      <td>Charmander</td>\n      <td>Fire</td>\n      <td>NaN</td>\n      <td>['Blaze', 'Solar Power']</td>\n      <td>39</td>\n      <td>52</td>\n      <td>43</td>\n      <td>60</td>\n      <td>50</td>\n      <td>...</td>\n      <td>0.5</td>\n      <td>2.0</td>\n      <td>1.0</td>\n      <td>1.0</td>\n      <td>1.0</td>\n      <td>0.5</td>\n      <td>0.5</td>\n      <td>0.6</td>\n      <td>8.5</td>\n      <td>23.6</td>\n    </tr>\n  </tbody>\n</table>\n<p>5 rows × 44 columns</p>\n</div>"
     },
     "execution_count": 591,
     "metadata": {},
     "output_type": "execute_result"
    }
   ],
   "source": [
    "Pokemon.head()"
   ],
   "metadata": {
    "collapsed": false
   }
  },
  {
   "cell_type": "code",
   "execution_count": 592,
   "outputs": [],
   "source": [
    "def plot_tree_classification(model, features, class_names,filename=\"decision_tree\"):\n",
    "    # Generate plot data\n",
    "    dot_data = tree.export_graphviz(model, out_file=None,\n",
    "                                    feature_names=features,\n",
    "                                    class_names=class_names,\n",
    "                                    filled=True, rounded=True,\n",
    "                                    special_characters=True)\n",
    "\n",
    "    # Turn into graph using graphviz\n",
    "    graph = graphviz.Source(dot_data)\n",
    "\n",
    "    # Write out a pdf\n",
    "    graph.render(filename)\n",
    "\n",
    "    # Display in the notebook\n",
    "    return graph\n",
    "\n",
    "def calculate_accuracy(predictions, actuals):\n",
    "    if(len(predictions) != len(actuals)):\n",
    "        raise Exception(\"The amount of predictions did not equal the amount of actuals\")\n",
    "\n",
    "    return (predictions == actuals).sum() / len(actuals)"
   ],
   "metadata": {
    "collapsed": false
   }
  },
  {
   "cell_type": "code",
   "execution_count": 593,
   "outputs": [],
   "source": [
    "\n",
    "features = ['HP', 'Att', 'Def','Spa', 'Spd', 'Spe']\n",
    "Pokemon_train, Pokemon_test = train_test_split(Pokemon, test_size=0.3, random_state=42, stratify=Pokemon['Legendary'])\n",
    "dt = DecisionTreeClassifier()\n"
   ],
   "metadata": {
    "collapsed": false
   }
  },
  {
   "cell_type": "code",
   "execution_count": 594,
   "outputs": [
    {
     "data": {
      "text/plain": "12"
     },
     "execution_count": 594,
     "metadata": {},
     "output_type": "execute_result"
    }
   ],
   "source": [
    "dt.fit(Pokemon_train[features], Pokemon_train['Legendary'])\n",
    "plot_tree_classification(dt, features, Pokemon_train['Legendary'].unique().astype('str').tolist())\n",
    "dt.get_depth()"
   ],
   "metadata": {
    "collapsed": false
   }
  },
  {
   "cell_type": "code",
   "execution_count": 595,
   "outputs": [
    {
     "name": "stdout",
     "output_type": "stream",
     "text": [
      "Accuracy on training set 1.0\n",
      "Accuracy on test set 0.8870967741935484\n"
     ]
    }
   ],
   "source": [
    "predictionsOnTrainset = dt.predict(Pokemon_train[features])\n",
    "predictionsOnTestset = dt.predict(Pokemon_test[features])\n",
    "\n",
    "accuracyTrain = calculate_accuracy(predictionsOnTrainset, Pokemon_train.Legendary)\n",
    "accuracyTest = calculate_accuracy(predictionsOnTestset, Pokemon_test.Legendary)\n",
    "\n",
    "print(\"Accuracy on training set \" + str(accuracyTrain))\n",
    "print(\"Accuracy on test set \" + str(accuracyTest))"
   ],
   "metadata": {
    "collapsed": false
   }
  },
  {
   "cell_type": "markdown",
   "source": [
    "There is a accuracy difference between the train and test set"
   ],
   "metadata": {
    "collapsed": false
   }
  }
 ],
 "metadata": {
  "kernelspec": {
   "display_name": "Python 3",
   "language": "python",
   "name": "python3"
  },
  "language_info": {
   "codemirror_mode": {
    "name": "ipython",
    "version": 2
   },
   "file_extension": ".py",
   "mimetype": "text/x-python",
   "name": "python",
   "nbconvert_exporter": "python",
   "pygments_lexer": "ipython2",
   "version": "2.7.6"
  }
 },
 "nbformat": 4,
 "nbformat_minor": 0
}
